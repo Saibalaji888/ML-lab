{
  "nbformat": 4,
  "nbformat_minor": 0,
  "metadata": {
    "colab": {
      "provenance": [],
      "gpuType": "T4"
    },
    "kernelspec": {
      "name": "python3",
      "display_name": "Python 3"
    },
    "language_info": {
      "name": "python"
    },
    "accelerator": "GPU"
  },
  "cells": [
    {
      "cell_type": "markdown",
      "source": [
        "**“Text Regression Analysis: A Review, Empirical, and Experimental Insights” (IEEE Access, 2024)**\n",
        "\n"
      ],
      "metadata": {
        "id": "MEevOhdUroEp"
      }
    },
    {
      "cell_type": "markdown",
      "source": [
        "**Abstract**\n",
        "\n",
        "This notebook replicates and extends ideas from Taha (2024) by implementing text-based regression on a public dataset of wine reviews.\n",
        "We predict continuous review scores (points) from review text (description) using two approaches:\n",
        "\n",
        "TF-IDF + Ridge Regression, and\n",
        "\n",
        "Sentence-BERT embeddings + Ridge Regression.\n",
        "\n",
        "We perform systematic hyperparameter tuning of the Ridge regularization term (α) to demonstrate performance improvement.\n",
        "Evaluation metrics: RMSE, MAE, and R²."
      ],
      "metadata": {
        "id": "9jTKQcrVsMal"
      }
    },
    {
      "cell_type": "markdown",
      "source": [
        "**Introduction**\n",
        "\n",
        "Text Regression converts unstructured text into numerical features to predict a continuous target.\n",
        "The referenced survey (Taha 2024) found Ridge Regression to be the most reliable among traditional linear techniques because it controls multicollinearity.\n",
        "However, the original experiments used shallow text representations such as TF-IDF or n-grams."
      ],
      "metadata": {
        "id": "bI-TxfbswKEp"
      }
    },
    {
      "cell_type": "markdown",
      "source": [
        "\n",
        "***Research Gap***\n",
        "\n",
        "The paper did not explore or evaluate text regression models that use modern NLP embeddings (e.g., Word2Vec, BERT, Sentence-BERT) capable of capturing contextual semantics.\n",
        "It also lacked systematic hyperparameter optimization — default Ridge α values were used, which may lead to sub-optimal performance.\n",
        "\n",
        "Why this matters\n",
        "\n",
        "Traditional TF-IDF features are sparse and ignore word meaning, while deep embeddings encode semantic context.\n",
        "Proper α tuning balances bias–variance and can improve accuracy.\n",
        "\n",
        "Objectives of this work\n",
        "\n",
        "1) Integrate Sentence-BERT embeddings with Ridge Regression for semantically informed text regression.\n",
        "\n",
        "2) Apply GridSearchCV to tune Ridge α and show measurable improvement over untuned TF-IDF + Ridge.\n",
        "\n",
        "3) Evaluate results using RMSE, MAE, and R² metrics."
      ],
      "metadata": {
        "id": "qUgLblbWwWpW"
      }
    },
    {
      "cell_type": "markdown",
      "source": [
        "**Dataset**\n",
        "\n",
        "We use the public Wine Reviews dataset (130 k entries) containing review description and points (80–100 scale).\n",
        "This enables numerical prediction from text."
      ],
      "metadata": {
        "id": "bVR0uBLywrpx"
      }
    },
    {
      "cell_type": "markdown",
      "source": [
        "**Environment Setup**"
      ],
      "metadata": {
        "id": "uDdnaO5lw2L-"
      }
    },
    {
      "cell_type": "code",
      "execution_count": 1,
      "metadata": {
        "id": "KodqE8Z1pbvt"
      },
      "outputs": [],
      "source": [
        "!pip install -q sentence-transformers"
      ]
    },
    {
      "cell_type": "code",
      "source": [
        "import numpy as np, pandas as pd, matplotlib.pyplot as plt, seaborn as sns\n",
        "from sklearn.model_selection import train_test_split, GridSearchCV\n",
        "from sklearn.feature_extraction.text import TfidfVectorizer\n",
        "from sklearn.decomposition import TruncatedSVD\n",
        "from sklearn.linear_model import Ridge\n",
        "from sklearn.pipeline import Pipeline, make_pipeline\n",
        "from sklearn.metrics import mean_squared_error, mean_absolute_error, r2_score\n",
        "from sklearn.preprocessing import StandardScaler\n"
      ],
      "metadata": {
        "id": "PvgvKcfTw9Ex"
      },
      "execution_count": 2,
      "outputs": []
    },
    {
      "cell_type": "markdown",
      "source": [
        "Load and Inspect Data"
      ],
      "metadata": {
        "id": "DPynrBR9xnnm"
      }
    },
    {
      "cell_type": "code",
      "source": [
        "df = pd.read_csv(\"/content/winemag-data-130k-v2.csv\")[['description','points']].dropna().reset_index(drop=True)\n",
        "df.head()\n",
        "\n"
      ],
      "metadata": {
        "colab": {
          "base_uri": "https://localhost:8080/",
          "height": 206
        },
        "id": "qm3BD9TVxpc2",
        "outputId": "896451c5-3523-42e8-c5f6-0d61f2d869f9"
      },
      "execution_count": 4,
      "outputs": [
        {
          "output_type": "execute_result",
          "data": {
            "text/plain": [
              "                                         description  points\n",
              "0  Aromas include tropical fruit, broom, brimston...      87\n",
              "1  This is ripe and fruity, a wine that is smooth...      87\n",
              "2  Tart and snappy, the flavors of lime flesh and...      87\n",
              "3  Pineapple rind, lemon pith and orange blossom ...      87\n",
              "4  Much like the regular bottling from 2012, this...      87"
            ],
            "text/html": [
              "\n",
              "  <div id=\"df-3ef64166-9b11-44e0-b712-7c1dc669f952\" class=\"colab-df-container\">\n",
              "    <div>\n",
              "<style scoped>\n",
              "    .dataframe tbody tr th:only-of-type {\n",
              "        vertical-align: middle;\n",
              "    }\n",
              "\n",
              "    .dataframe tbody tr th {\n",
              "        vertical-align: top;\n",
              "    }\n",
              "\n",
              "    .dataframe thead th {\n",
              "        text-align: right;\n",
              "    }\n",
              "</style>\n",
              "<table border=\"1\" class=\"dataframe\">\n",
              "  <thead>\n",
              "    <tr style=\"text-align: right;\">\n",
              "      <th></th>\n",
              "      <th>description</th>\n",
              "      <th>points</th>\n",
              "    </tr>\n",
              "  </thead>\n",
              "  <tbody>\n",
              "    <tr>\n",
              "      <th>0</th>\n",
              "      <td>Aromas include tropical fruit, broom, brimston...</td>\n",
              "      <td>87</td>\n",
              "    </tr>\n",
              "    <tr>\n",
              "      <th>1</th>\n",
              "      <td>This is ripe and fruity, a wine that is smooth...</td>\n",
              "      <td>87</td>\n",
              "    </tr>\n",
              "    <tr>\n",
              "      <th>2</th>\n",
              "      <td>Tart and snappy, the flavors of lime flesh and...</td>\n",
              "      <td>87</td>\n",
              "    </tr>\n",
              "    <tr>\n",
              "      <th>3</th>\n",
              "      <td>Pineapple rind, lemon pith and orange blossom ...</td>\n",
              "      <td>87</td>\n",
              "    </tr>\n",
              "    <tr>\n",
              "      <th>4</th>\n",
              "      <td>Much like the regular bottling from 2012, this...</td>\n",
              "      <td>87</td>\n",
              "    </tr>\n",
              "  </tbody>\n",
              "</table>\n",
              "</div>\n",
              "    <div class=\"colab-df-buttons\">\n",
              "\n",
              "  <div class=\"colab-df-container\">\n",
              "    <button class=\"colab-df-convert\" onclick=\"convertToInteractive('df-3ef64166-9b11-44e0-b712-7c1dc669f952')\"\n",
              "            title=\"Convert this dataframe to an interactive table.\"\n",
              "            style=\"display:none;\">\n",
              "\n",
              "  <svg xmlns=\"http://www.w3.org/2000/svg\" height=\"24px\" viewBox=\"0 -960 960 960\">\n",
              "    <path d=\"M120-120v-720h720v720H120Zm60-500h600v-160H180v160Zm220 220h160v-160H400v160Zm0 220h160v-160H400v160ZM180-400h160v-160H180v160Zm440 0h160v-160H620v160ZM180-180h160v-160H180v160Zm440 0h160v-160H620v160Z\"/>\n",
              "  </svg>\n",
              "    </button>\n",
              "\n",
              "  <style>\n",
              "    .colab-df-container {\n",
              "      display:flex;\n",
              "      gap: 12px;\n",
              "    }\n",
              "\n",
              "    .colab-df-convert {\n",
              "      background-color: #E8F0FE;\n",
              "      border: none;\n",
              "      border-radius: 50%;\n",
              "      cursor: pointer;\n",
              "      display: none;\n",
              "      fill: #1967D2;\n",
              "      height: 32px;\n",
              "      padding: 0 0 0 0;\n",
              "      width: 32px;\n",
              "    }\n",
              "\n",
              "    .colab-df-convert:hover {\n",
              "      background-color: #E2EBFA;\n",
              "      box-shadow: 0px 1px 2px rgba(60, 64, 67, 0.3), 0px 1px 3px 1px rgba(60, 64, 67, 0.15);\n",
              "      fill: #174EA6;\n",
              "    }\n",
              "\n",
              "    .colab-df-buttons div {\n",
              "      margin-bottom: 4px;\n",
              "    }\n",
              "\n",
              "    [theme=dark] .colab-df-convert {\n",
              "      background-color: #3B4455;\n",
              "      fill: #D2E3FC;\n",
              "    }\n",
              "\n",
              "    [theme=dark] .colab-df-convert:hover {\n",
              "      background-color: #434B5C;\n",
              "      box-shadow: 0px 1px 3px 1px rgba(0, 0, 0, 0.15);\n",
              "      filter: drop-shadow(0px 1px 2px rgba(0, 0, 0, 0.3));\n",
              "      fill: #FFFFFF;\n",
              "    }\n",
              "  </style>\n",
              "\n",
              "    <script>\n",
              "      const buttonEl =\n",
              "        document.querySelector('#df-3ef64166-9b11-44e0-b712-7c1dc669f952 button.colab-df-convert');\n",
              "      buttonEl.style.display =\n",
              "        google.colab.kernel.accessAllowed ? 'block' : 'none';\n",
              "\n",
              "      async function convertToInteractive(key) {\n",
              "        const element = document.querySelector('#df-3ef64166-9b11-44e0-b712-7c1dc669f952');\n",
              "        const dataTable =\n",
              "          await google.colab.kernel.invokeFunction('convertToInteractive',\n",
              "                                                    [key], {});\n",
              "        if (!dataTable) return;\n",
              "\n",
              "        const docLinkHtml = 'Like what you see? Visit the ' +\n",
              "          '<a target=\"_blank\" href=https://colab.research.google.com/notebooks/data_table.ipynb>data table notebook</a>'\n",
              "          + ' to learn more about interactive tables.';\n",
              "        element.innerHTML = '';\n",
              "        dataTable['output_type'] = 'display_data';\n",
              "        await google.colab.output.renderOutput(dataTable, element);\n",
              "        const docLink = document.createElement('div');\n",
              "        docLink.innerHTML = docLinkHtml;\n",
              "        element.appendChild(docLink);\n",
              "      }\n",
              "    </script>\n",
              "  </div>\n",
              "\n",
              "\n",
              "    <div id=\"df-01cd431f-d3b8-431e-9362-43429b586c7a\">\n",
              "      <button class=\"colab-df-quickchart\" onclick=\"quickchart('df-01cd431f-d3b8-431e-9362-43429b586c7a')\"\n",
              "                title=\"Suggest charts\"\n",
              "                style=\"display:none;\">\n",
              "\n",
              "<svg xmlns=\"http://www.w3.org/2000/svg\" height=\"24px\"viewBox=\"0 0 24 24\"\n",
              "     width=\"24px\">\n",
              "    <g>\n",
              "        <path d=\"M19 3H5c-1.1 0-2 .9-2 2v14c0 1.1.9 2 2 2h14c1.1 0 2-.9 2-2V5c0-1.1-.9-2-2-2zM9 17H7v-7h2v7zm4 0h-2V7h2v10zm4 0h-2v-4h2v4z\"/>\n",
              "    </g>\n",
              "</svg>\n",
              "      </button>\n",
              "\n",
              "<style>\n",
              "  .colab-df-quickchart {\n",
              "      --bg-color: #E8F0FE;\n",
              "      --fill-color: #1967D2;\n",
              "      --hover-bg-color: #E2EBFA;\n",
              "      --hover-fill-color: #174EA6;\n",
              "      --disabled-fill-color: #AAA;\n",
              "      --disabled-bg-color: #DDD;\n",
              "  }\n",
              "\n",
              "  [theme=dark] .colab-df-quickchart {\n",
              "      --bg-color: #3B4455;\n",
              "      --fill-color: #D2E3FC;\n",
              "      --hover-bg-color: #434B5C;\n",
              "      --hover-fill-color: #FFFFFF;\n",
              "      --disabled-bg-color: #3B4455;\n",
              "      --disabled-fill-color: #666;\n",
              "  }\n",
              "\n",
              "  .colab-df-quickchart {\n",
              "    background-color: var(--bg-color);\n",
              "    border: none;\n",
              "    border-radius: 50%;\n",
              "    cursor: pointer;\n",
              "    display: none;\n",
              "    fill: var(--fill-color);\n",
              "    height: 32px;\n",
              "    padding: 0;\n",
              "    width: 32px;\n",
              "  }\n",
              "\n",
              "  .colab-df-quickchart:hover {\n",
              "    background-color: var(--hover-bg-color);\n",
              "    box-shadow: 0 1px 2px rgba(60, 64, 67, 0.3), 0 1px 3px 1px rgba(60, 64, 67, 0.15);\n",
              "    fill: var(--button-hover-fill-color);\n",
              "  }\n",
              "\n",
              "  .colab-df-quickchart-complete:disabled,\n",
              "  .colab-df-quickchart-complete:disabled:hover {\n",
              "    background-color: var(--disabled-bg-color);\n",
              "    fill: var(--disabled-fill-color);\n",
              "    box-shadow: none;\n",
              "  }\n",
              "\n",
              "  .colab-df-spinner {\n",
              "    border: 2px solid var(--fill-color);\n",
              "    border-color: transparent;\n",
              "    border-bottom-color: var(--fill-color);\n",
              "    animation:\n",
              "      spin 1s steps(1) infinite;\n",
              "  }\n",
              "\n",
              "  @keyframes spin {\n",
              "    0% {\n",
              "      border-color: transparent;\n",
              "      border-bottom-color: var(--fill-color);\n",
              "      border-left-color: var(--fill-color);\n",
              "    }\n",
              "    20% {\n",
              "      border-color: transparent;\n",
              "      border-left-color: var(--fill-color);\n",
              "      border-top-color: var(--fill-color);\n",
              "    }\n",
              "    30% {\n",
              "      border-color: transparent;\n",
              "      border-left-color: var(--fill-color);\n",
              "      border-top-color: var(--fill-color);\n",
              "      border-right-color: var(--fill-color);\n",
              "    }\n",
              "    40% {\n",
              "      border-color: transparent;\n",
              "      border-right-color: var(--fill-color);\n",
              "      border-top-color: var(--fill-color);\n",
              "    }\n",
              "    60% {\n",
              "      border-color: transparent;\n",
              "      border-right-color: var(--fill-color);\n",
              "    }\n",
              "    80% {\n",
              "      border-color: transparent;\n",
              "      border-right-color: var(--fill-color);\n",
              "      border-bottom-color: var(--fill-color);\n",
              "    }\n",
              "    90% {\n",
              "      border-color: transparent;\n",
              "      border-bottom-color: var(--fill-color);\n",
              "    }\n",
              "  }\n",
              "</style>\n",
              "\n",
              "      <script>\n",
              "        async function quickchart(key) {\n",
              "          const quickchartButtonEl =\n",
              "            document.querySelector('#' + key + ' button');\n",
              "          quickchartButtonEl.disabled = true;  // To prevent multiple clicks.\n",
              "          quickchartButtonEl.classList.add('colab-df-spinner');\n",
              "          try {\n",
              "            const charts = await google.colab.kernel.invokeFunction(\n",
              "                'suggestCharts', [key], {});\n",
              "          } catch (error) {\n",
              "            console.error('Error during call to suggestCharts:', error);\n",
              "          }\n",
              "          quickchartButtonEl.classList.remove('colab-df-spinner');\n",
              "          quickchartButtonEl.classList.add('colab-df-quickchart-complete');\n",
              "        }\n",
              "        (() => {\n",
              "          let quickchartButtonEl =\n",
              "            document.querySelector('#df-01cd431f-d3b8-431e-9362-43429b586c7a button');\n",
              "          quickchartButtonEl.style.display =\n",
              "            google.colab.kernel.accessAllowed ? 'block' : 'none';\n",
              "        })();\n",
              "      </script>\n",
              "    </div>\n",
              "\n",
              "    </div>\n",
              "  </div>\n"
            ],
            "application/vnd.google.colaboratory.intrinsic+json": {
              "type": "dataframe",
              "variable_name": "df",
              "summary": "{\n  \"name\": \"df\",\n  \"rows\": 41265,\n  \"fields\": [\n    {\n      \"column\": \"description\",\n      \"properties\": {\n        \"dtype\": \"string\",\n        \"num_unique_values\": 40287,\n        \"samples\": [\n          \"Smells a lot like fresh celery and/or asparagus, with vibrant green fruit aromas and lettuce thrown in for good measure. Juicy in the mouth, with apple, citrus and green veggie flavors. Turns more vegetal the longer it goes, but freshness and acidity keep it on a solid plane.\",\n          \"This Prosecco Brut (made with 5% Chardonnay for extra smoothness) delivers floral aromas of dried lavender and rose backed by mineral tones and pulpy peach. It's a lively and generous wine made by Franco Adami, one of the most charismatic and enthusiastic producers in Prosecco land.\",\n          \"Fresh berry, mint, cola and herb aromas make for a classic Maipo bouquet. Feels fresh and good, with plying tannins and bright acidity. Tastes earthy, mossy and herbal, with ample berry fruit. Licorice and prune flavors carry the finish. Syrah with Cabernet, Carmen\\u00e8re and Petit Verdot.\"\n        ],\n        \"semantic_type\": \"\",\n        "description": \"\"\n      }\n    },\n    {\n      \"column\": \"points\",\n      \"properties\": {\n        \"dtype\": \"number\",\n        \"std\": 3,\n        \"min\": 80,\n        \"max\": 100,\n        \"num_unique_values\": 21,\n        \"samples\": [\n          87,\n          93,\n          96\n        ],\n        \"semantic_type\": \"\",\n        "description": \"\"\n      }\n    }\n  ]\n}"
            }
          },
          "metadata": {},
          "execution_count": 4
        }
      ]
    },
    {
      "cell_type": "code",
      "source": [
        "print(df.shape)\n",
        "df['points'].describe()\n"
      ],
      "metadata": {
        "colab": {
          "base_uri": "https://localhost:8080/",
          "height": 352
        },
        "id": "QO4s0rzVySGr",
        "outputId": "4a61ed76-4b04-4133-85d6-73b16ad4b507"
      },
      "execution_count": 5,
      "outputs": [
        {
          "output_type": "stream",
          "name": "stdout",
          "text": [
            "(41265, 2)\n"
          ]
        },
        {
          "output_type": "execute_result",
          "data": {
            "text/plain": [
              "count    41265.000000\n",
              "mean        88.429904\n",
              "std          3.007034\n",
              "min         80.000000\n",
              "25%         86.000000\n",
              "50%         88.000000\n",
              "75%         91.000000\n",
              "max        100.000000\n",
              "Name: points, dtype: float64"
            ],
            "text/html": [
              "<div>\n",
              "<style scoped>\n",
              "    .dataframe tbody tr th:only-of-type {\n",
              "        vertical-align: middle;\n",
              "    }\n",
              "\n",
              "    .dataframe tbody tr th {\n",
              "        vertical-align: top;\n",
              "    }\n",
              "\n",
              "    .dataframe thead th {\n",
              "        text-align: right;\n",
              "    }\n",
              "</style>\n",
              "<table border=\"1\" class=\"dataframe\">\n",
              "  <thead>\n",
              "    <tr style=\"text-align: right;\">\n",
              "      <th></th>\n",
              "      <th>points</th>\n",
              "    </tr>\n",
              "  </thead>\n",
              "  <tbody>\n",
              "    <tr>\n",
              "      <th>count</th>\n",
              "      <td>41265.000000</td>\n",
              "    </tr>\n",
              "    <tr>\n",
              "      <th>mean</th>\n",
              "      <td>88.429904</td>\n",
              "    </tr>\n",
              "    <tr>\n",
              "      <th>std</th>\n",
              "      <td>3.007034</td>\n",
              "    </tr>\n",
              "    <tr>\n",
              "      <th>min</th>\n",
              "      <td>80.000000</td>\n",
              "    </tr>\n",
              "    <tr>\n",
              "      <th>25%</th>\n",
              "      <td>86.000000</td>\n",
              "    </tr>\n",
              "    <tr>\n",
              "      <th>50%</th>\n",
              "      <td>88.000000</td>\n",
              "    </tr>\n",
              "    <tr>\n",
              "      <th>75%</th>\n",
              "      <td>91.000000</td>\n",
              "    </tr>\n",
              "    <tr>\n",
              "      <th>max</th>\n",
              "      <td>100.000000</td>\n",
              "    </tr>\n",
              "  </tbody>\n",
              "</table>\n",
              "</div><br><label><b>dtype:</b> float64</label>"
            ]
          },
          "metadata": {},
          "execution_count": 5
        }
      ]
    },
    {
      "cell_type": "markdown",
      "source": [
        "Exploratory Data Analysis"
      ],
      "metadata": {
        "id": "NMprjAG7yWUm"
      }
    },
    {
      "cell_type": "code",
      "source": [
        "df['desc_len'] = df['description'].str.split().map(len)\n",
        "plt.figure(figsize=(7,3)); sns.histplot(df['points'], bins=20); plt.title(\"Distribution of Points\")\n",
        "plt.figure(figsize=(7,3)); sns.histplot(df['desc_len'], bins=40); plt.title(\"Length of Descriptions\")\n",
        "plt.show()\n"
      ],
      "metadata": {
        "colab": {
          "base_uri": "https://localhost:8080/",
          "height": 649
        },
        "id": "HUdZZh_zyXKn",
        "outputId": "df135885-84fd-49be-98f8-c7cb2d709f9d"
      },
      "execution_count": 6,
      "outputs": [
        {
          "output_type": "display_data",
          "data": {
            "text/plain": [
              "<Figure size 700x300 with 1 Axes>"
            ],
            "image/png": "iVBORw0KGgoAAAANSUhEUgAAAnIAAAE8CAYAAABElFwUAAAAOnRFWHRTb2Z0d2FyZQBNYXRwbG90bGliIHZlcnNpb24zLjEwLjAsIGh0dHBzOi8vbWF0cGxvdGxpYi5vcmcvlHJYcgAAAAlwSFlzAAAPYQAAD2EBqD+naQAAQANJREFUeJzt3XlcVGX/P/7XsMwA4oCKzICyucRi7iZOmbmQaFT2ke7SXMj1ozdqYKlZbmnedtutaEZadym2WGrfUnNH3FJx4xZzQW41bFxYRIXBRNbr90c/zsdhB2cYDryej8d5PJpzrrmu683h0Mtz5pxRCCEEiIiIiEh2rCw9ASIiIiKqHQY5IiIiIplix/XOnTvh4eGBnp6eGDhwIP755x/Mnj3bpObbt2/j+PHjWLlyJcLDw5GWlpa+YyAiIiIqWbJqH9988w0MBgM8PT0xaNAg+Pr6Gh0zY8YMtG7dGjY2NnFzc4OMjAx07NgRgwcPxowZMwAAwYIFC/DSSy+ZcxBFRESV9Xq9HpmZmWanv7m5uMDJycmshigiIur92v0YFRUV+PLLL/HQQw/Bw8MDYWFhWLhwIdatW4fw8HBpu1u3bsXOnTtRUVFh1nEICIiIqoRBg+iJXLlyBYGBgfjoo4/w0UcfITU1Fbl5eWjXrh1WrlyJAQMGwMfHB+PHj8eMGTPQvXt3AODChQvYv38/hg4dihEjRmD+/PnYvXv3tOMwIiIiotsVDBj33nsvLly4gObNm2Pz5s1IT0/HuXPnEBYWhkqlwuDBg/HZZ59h7ty5eOWVV3DgwIGaPZ0mJyfj008/xeDBgxEbG4uoqCikp6cjJSVFWm5sbIznz5/HzZs3ERoaWm1xERERkQ/FwYMYDAZs3boVPj4+OHDgABITE+Hg4ICmpqaYfNu0aZOe7du3r/C2r+169+4NXV1d+Pjjj+Hq6gqdnZ147rnnTDcBIiIiot5wU/Y1cufOHXz00Ue4dOkSTp06hcrKSgwcOFBaqfTx48fo1q0bbt26hQMHDiA/Px/ff/89hg0bBuDvXl+mffv2KC0tDRsbm1nHICIiIqqhRkFv7ty5OHXqFDRu3Bjr16/Hpk2bMHXqVEyePNmkJjExMTB//nzs3bsX27dvx+7du7Fv3z4MHjwY+/fvh4eHB1xcXFBVVYVFixahdu3aiI2Nxc8//yx33RMREdWhBjgiIiIimWLQI6pL3bt3x4gRI7B79274+fkhKysL+fn5GDJkiGnGICHJjszMzMTJyQmdnZ3OOgYRKgT7d+7cSUFBAYwZswbnz5/H/fv3kZaWhnv37mHSpEkIDg5GYmIiAKBZs2YYM2YMenTogPbt2+PChQvIzMzEpk2bMHnyZBw7dgyffvopWrVqhSNHjuDmzZukM7GIiIhI5oFbjwAA9erVC7NmzcLR0RGHDx/GihUrcODAAYwYMQLffvstXnvtNQwZMkTaXlpaGpKSkoza5cuXceLECejs7AQAWlpaAGDJkiUoKyur1uIiIiIiohsx6BERERHJFIMcERERkUwxyBERERHJFIMcERERkUwxyBERERHJFIMcERERkUwxyBERERHJFIMcERERkUwxyBERERHJFIMcERERkUwxyBERERHJFIMcERERkUwxyBERERHJFIMcERERkUwxyBERERHJFIMcERERkUwxyBERERHJFIMcERERkUwxyBERERHJFIMcERERkUwxyBERERHJFIMcERERkUwxyBERERHJFIMcERERkUwxyBERERHJFIMcERERkUwxyBERERHJFIMcERERkUwxyBERERHJFIMcERERkUwxyBERERHJFIMcERERkUwxyBERERHJFIMcERERkUwxyBERERHJFIMcERERkUwxyBERERHJFIMcERERkUwxyBERERHJFIMcERERkUwxyBERERHJFIMcERERkUwxyBERERHJFIMcERERkUwxyBERERHJFIMcERERkUwxyBERERHJFIMcERERkUwxyBERERHJFIMcERERkUwxyBERERHJFIMcERERkUwxyBERERHJFIMcERERkUwxyBERERHJFIMcERERkUwxyBERERHJFIMcERERkUwxyBERERHJFIMcERERkUwxyBERERHJFIMcERERkUwxyBERERHJFIMcERERkUwxyBERERHJFIMcERERkUwxyBERERHJFIMcERERkUwxyBERERHJFIMcERERkUwxyBERERHJFIMcERERkUwxyBERERHJFIMcERERkUwxyBERERHJFIMcERERkUwxyBERERHJFIMcERERkUwxyBERERHJFIMcERERkUwxyBERERHJFIMcERERkUwxyBERERHJFIMcERERkUwxyBERERHJFIMcERERkUwxyBERERHJFIMcERERkUwxyBERERHJFIMcERERkUwxyBERERHJFIMcERERkUwxyBERERHJFIMcERERkUwxyBERERHJFIMcERERkUwxyBERERHJFIMcERERkUwxyBERERHJFIMcERERkUwxyBERERHJFIMcERERkUwxyBERERHJFIMcERERkUwxyBERERHJFIMcERERkUwxyBERERHJFIMcERERkUwxyBERERHJFIMcERERkUwxyBERERHJFIMcERERkUwxyBERERHJFIMcERERkUwxyBERERHJFIMcERERkUwxyBERERHJFIMcERERkUwxyBERERHJFIMcERERkUwxyBERERHJFIMcERERkUwxyBERERHJFIMcERERkUwxyBERERHJFIMcERERkUwxyBERERHJFIMcERERkUwxyBERERHJFIMcERERkUwxyBERERHJFIMcERERkUwxyBERERHJFIMcERERkUwxyBERERHJFIMcERERkUwxyBERERHJFIMcERERkUwxyBERERHJFIMcERERkUwxyBERERHJFIMcERERkUwxyBERERHJFIMcERERkUwxyBERERHJFIMcERERkUwxyBERERHJFIMcERERkUwxyBERERHJFIMcERERkUwxyBERERHJFIMcERERkUwxyBERERHJFIMcERERkUwxyBERERHJFIMcERERkUwxyBERERHJFIMcERERkUwxyBERERHJFIMcERERkUwxyBERERHJFIMcERERkUwxyBERERHJFIMcERER
