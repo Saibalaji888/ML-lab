{
  "nbformat": 4,
  "nbformat_minor": 0,
  "metadata": {
    "colab": {
      "provenance": [],
      "gpuType": "T4"
    },
    "kernelspec": {
      "name": "python3",
      "display_name": "Python 3"
    },
    "language_info": {
      "name": "python"
    },
    "accelerator": "GPU"
  },
  "cells": [
    {
      "cell_type": "markdown",
      "source": [
        "**“Text Regression Analysis: A Review, Empirical, and Experimental Insights” (IEEE Access, 2024)**\n",
        "\n"
      ],
      "metadata": {
        "id": "MEevOhdUroEp"
      }
    },
    {
      "cell_type": "markdown",
      "source": [
        "**Abstract**\n",
        "\n",
        "This notebook replicates and extends ideas from Taha (2024) by implementing text-based regression on a public dataset of wine reviews.\n",
        "We predict continuous review scores (points) from review text (description) using two approaches:\n",
        "\n",
        "TF-IDF + Ridge Regression, and\n",
        "\n",
        "Sentence-BERT embeddings + Ridge Regression.\n",
        "\n",
        "We perform systematic hyperparameter tuning of the Ridge regularization term (α) to demonstrate performance improvement.\n",
        "Evaluation metrics: RMSE, MAE, and R²."
      ],
      "metadata": {
        "id": "9jTKQcrVsMal"
      }
    },
    {
      "cell_type": "markdown",
      "source": [
        "**Introduction**\n",
        "\n",
        "Text Regression converts unstructured text into numerical features to predict a continuous target.\n",
        "The referenced survey (Taha 2024) found Ridge Regression to be the most reliable among traditional linear techniques because it controls multicollinearity.\n",
        "However, the original experiments used shallow text representations such as TF-IDF or n-grams."
      ],
      "metadata": {
        "id": "bI-TxfbswKEp"
      }
    },
    {
      "cell_type": "markdown",
      "source": [
        "\n",
        "***Research Gap***\n",
        "\n",
        "The paper did not explore or evaluate text regression models that use modern NLP embeddings (e.g., Word2Vec, BERT, Sentence-BERT) capable of capturing contextual semantics.\n",
        "It also lacked systematic hyperparameter optimization — default Ridge α values were used, which may lead to sub-optimal performance.\n",
        "\n",
        "Why this matters\n",
        "\n",
        "Traditional TF-IDF features are sparse and ignore word meaning, while deep embeddings encode semantic context.\n",
        "Proper α tuning balances bias–variance and can improve accuracy.\n",
        "\n",
        "Objectives of this work\n",
        "\n",
        "1) Integrate Sentence-BERT embeddings with Ridge Regression for semantically informed text regression.\n",
        "\n",
        "2) Apply GridSearchCV to tune Ridge α and show measurable improvement over untuned TF-IDF + Ridge.\n",
        "\n",
        "3) Evaluate results using RMSE, MAE, and R² metrics."
      ],
      "metadata": {
        "id": "qUgLblbWwWpW"
      }
    },
    {
      "cell_type": "markdown",
      "source": [
        "**Dataset**\n",
        "\n",
        "We use the public Wine Reviews dataset (130 k entries) containing review description and points (80–100 scale).\n",
        "This enables numerical prediction from text."
      ],
      "metadata": {
        "id": "bVR0uBLywrpx"
      }
    },
    {
      "cell_type": "markdown",
      "source": [
        "**Environment Setup**"
      ],
      "metadata": {
        "id": "uDdnaO5lw2L-"
      }
    },
    {
      "cell_type": "code",
      "execution_count": 1,
      "metadata": {
        "id": "KodqE8Z1pbvt"
      },
      "outputs": [],
      "source": [
        "!pip install -q sentence-transformers"
      ]
    },
    {
      "cell_type": "code",
      "source": [
        "import numpy as np, pandas as pd, matplotlib.pyplot as plt, seaborn as sns\n",
        "from sklearn.model_selection import train_test_split, GridSearchCV\n",
        "from sklearn.feature_extraction.text import TfidfVectorizer\n",
        "from sklearn.decomposition import TruncatedSVD\n",
        "from sklearn.linear_model import Ridge\n",
        "from sklearn.pipeline import Pipeline, make_pipeline\n",
        "from sklearn.metrics import mean_squared_error, mean_absolute_error, r2_score\n",
        "from sklearn.preprocessing import StandardScaler\n"
      ],
      "metadata": {
        "id": "PvgvKcfTw9Ex"
      },
      "execution_count": 2,
      "outputs": []
    },
    {
      "cell_type": "markdown",
      "source": [
        "Load and Inspect Data"
      ],
      "metadata": {
        "id": "DPynrBR9xnnm"
      }
    },
    {
      "cell_type": "code",
      "source": [
        "df = pd.read_csv(\"/content/winemag-data-130k-v2.csv\")[['description','points']].dropna().reset_index(drop=True)\n",
        "df.head()\n",
        "\n"
      ],
      "metadata": {
        "colab": {
          "base_uri": "https://localhost:8080/",
          "height": 206
        },
        "id": "qm3BD9TVxpc2",
        "outputId": "896451c5-3523-42e8-c5f6-0d61f2d869f9"
      },
      "execution_count": 4,
      "outputs": [
        {
          "output_type": "execute_result",
          "data": {
            "text/plain": [
              "                                         description  points\n",
              "0  Aromas include tropical fruit, broom, brimston...      87\n",
              "1  This is ripe and fruity, a wine that is smooth...      87\n",
              "2  Tart and snappy, the flavors of lime flesh and...      87\n",
              "3  Pineapple rind, lemon pith and orange blossom ...      87\n",
              "4  Much like the regular bottling from 2012, this...      87"
            ],
            "text/html": [
              "\n",
              "  <div id=\"df-3ef64166-9b11-44e0-b712-7c1dc669f952\" class=\"colab-df-container\">\n",
              "    <div>\n",
              "<style scoped>\n",
              "    .dataframe tbody tr th:only-of-type {\n",
              "        vertical-align: middle;\n",
              "    }\n",
              "\n",
              "    .dataframe tbody tr th {\n",
              "        vertical-align: top;\n",
              "    }\n",
              "\n",
              "    .dataframe thead th {\n",
              "        text-align: right;\n",
              "    }\n",
              "</style>\n",
              "<table border=\"1\" class=\"dataframe\">\n",
              "  <thead>\n",
              "    <tr style=\"text-align: right;\">\n",
              "      <th></th>\n",
              "      <th>description</th>\n",
              "      <th>points</th>\n",
              "    </tr>\n",
              "  </thead>\n",
              "  <tbody>\n",
              "    <tr>\n",
              "      <th>0</th>\n",
              "      <td>Aromas include tropical fruit, broom, brimston...</td>\n",
              "      <td>87</td>\n",
              "    </tr>\n",
              "    <tr>\n",
              "      <th>1</th>\n",
              "      <td>This is ripe and fruity, a wine that is smooth...</td>\n",
              "      <td>87</td>\n",
              "    </tr>\n",
              "    <tr>\n",
              "      <th>2</th>\n",
              "      <td>Tart and snappy, the flavors of lime flesh and...</td>\n",
              "      <td>87</td>\n",
              "    </tr>\n",
              "    <tr>\n",
              "      <th>3</th>\n",
              "      <td>Pineapple rind, lemon pith and orange blossom ...</td>\n",
              "      <td>87</td>\n",
              "    </tr>\n",
              "    <tr>\n",
              "      <th>4</th>\n",
              "      <td>Much like the regular bottling from 2012, this...</td>\n",
              "      <td>87</td>\n",
              "    </tr>\n",
              "  </tbody>\n",
              "</table>\n",
              "</div>\n",
              "    <div class=\"colab-df-buttons\">\n",
              "\n",
              "  <div class=\"colab-df-container\">\n",
              "    <button class=\"colab-df-convert\" onclick=\"convertToInteractive('df-3ef64166-9b11-44e0-b712-7c1dc669f952')\"\n",
              "            title=\"Convert this dataframe to an interactive table.\"\n",
              "            style=\"display:none;\">\n",
              "\n",
              "  <svg xmlns=\"http://www.w3.org/2000/svg\" height=\"24px\" viewBox=\"0 -960 960 960\">\n",
              "    <path d=\"M120-120v-720h720v720H120Zm60-500h600v-160H180v160Zm220 220h160v-160H400v160Zm0 220h160v-160H400v160ZM180-400h160v-160H180v160Zm440 0h160v-160H620v160ZM180-180h160v-160H180v160Zm440 0h160v-160H620v160Z\"/>\n",
              "  </svg>\n",
              "    </button>\n",
              "\n",
              "  <style>\n",
              "    .colab-df-container {\n",
              "      display:flex;\n",
              "      gap: 12px;\n",
              "    }\n",
              "\n",
              "    .colab-df-convert {\n",
              "      background-color: #E8F0FE;\n",
              "      border: none;\n",
              "      border-radius: 50%;\n",
              "      cursor: pointer;\n",
              "      display: none;\n",
              "      fill: #1967D2;\n",
              "      height: 32px;\n",
              "      padding: 0 0 0 0;\n",
              "      width: 32px;\n",
              "    }\n",
              "\n",
              "    .colab-df-convert:hover {\n",
              "      background-color: #E2EBFA;\n",
              "      box-shadow: 0px 1px 2px rgba(60, 64, 67, 0.3), 0px 1px 3px 1px rgba(60, 64, 67, 0.15);\n",
              "      fill: #174EA6;\n",
              "    }\n",
              "\n",
              "    .colab-df-buttons div {\n",
              "      margin-bottom: 4px;\n",
              "    }\n",
              "\n",
              "    [theme=dark] .colab-df-convert {\n",
              "      background-color: #3B4455;\n",
              "      fill: #D2E3FC;\n",
              "    }\n",
              "\n",
              "    [theme=dark] .colab-df-convert:hover {\n",
              "      background-color: #434B5C;\n",
              "      box-shadow: 0px 1px 3px 1px rgba(0, 0, 0, 0.15);\n",
              "      filter: drop-shadow(0px 1px 2px rgba(0, 0, 0, 0.3));\n",
              "      fill: #FFFFFF;\n",
              "    }\n",
              "  </style>\n",
              "\n",
              "    <script>\n",
              "      const buttonEl =\n",
              "        document.querySelector('#df-3ef64166-9b11-44e0-b712-7c1dc669f952 button.colab-df-convert');\n",
              "      buttonEl.style.display =\n",
              "        google.colab.kernel.accessAllowed ? 'block' : 'none';\n",
              "\n",
              "      async function convertToInteractive(key) {\n",
              "        const element = document.querySelector('#df-3ef64166-9b11-44e0-b712-7c1dc669f952');\n",
              "        const dataTable =\n",
              "          await google.colab.kernel.invokeFunction('convertToInteractive',\n",
              "                                                    [key], {});\n",
              "        if (!dataTable) return;\n",
              "\n",
              "        const docLinkHtml = 'Like what you see? Visit the ' +\n",
              "          '<a target=\"_blank\" href=https://colab.research.google.com/notebooks/data_table.ipynb>data table notebook</a>'\n",
              "          + ' to learn more about interactive tables.';\n",
              "        element.innerHTML = '';\n",
              "        dataTable['output_type'] = 'display_data';\n",
              "        await google.colab.output.renderOutput(dataTable, element);\n",
              "        const docLink = document.createElement('div');\n",
              "        docLink.innerHTML = docLinkHtml;\n",
              "        element.appendChild(docLink);\n",
              "      }\n",
              "    </script>\n",
              "  </div>\n",
              "\n",
              "\n",
              "    <div id=\"df-01cd431f-d3b8-431e-9362-43429b586c7a\">\n",
              "      <button class=\"colab-df-quickchart\" onclick=\"quickchart('df-01cd431f-d3b8-431e-9362-43429b586c7a')\"\n",
              "                title=\"Suggest charts\"\n",
              "                style=\"display:none;\">\n",
              "\n",
              "<svg xmlns=\"http://www.w3.org/2000/svg\" height=\"24px\"viewBox=\"0 0 24 24\"\n",
              "     width=\"24px\">\n",
              "    <g>\n",
              "        <path d=\"M19 3H5c-1.1 0-2 .9-2 2v14c0 1.1.9 2 2 2h14c1.1 0 2-.9 2-2V5c0-1.1-.9-2-2-2zM9 17H7v-7h2v7zm4 0h-2V7h2v10zm4 0h-2v-4h2v4z\"/>\n",
              "    </g>\n",
              "</svg>\n",
              "      </button>\n",
              "\n",
              "<style>\n",
              "  .colab-df-quickchart {\n",
              "      --bg-color: #E8F0FE;\n",
              "      --fill-color: #1967D2;\n",
              "      --hover-bg-color: #E2EBFA;\n",
              "      --hover-fill-color: #174EA6;\n",
              "      --disabled-fill-color: #AAA;\n",
              "      --disabled-bg-color: #DDD;\n",
              "  }\n",
              "\n",
              "  [theme=dark] .colab-df-quickchart {\n",
              "      --bg-color: #3B4455;\n",
              "      --fill-color: #D2E3FC;\n",
              "      --hover-bg-color: #434B5C;\n",
              "      --hover-fill-color: #FFFFFF;\n",
              "      --disabled-bg-color: #3B4455;\n",
              "      --disabled-fill-color: #666;\n",
              "  }\n",
              "\n",
              "  .colab-df-quickchart {\n",
              "    background-color: var(--bg-color);\n",
              "    border: none;\n",
              "    border-radius: 50%;\n",
              "    cursor: pointer;\n",
              "    display: none;\n",
              "    fill: var(--fill-color);\n",
              "    height: 32px;\n",
              "    padding: 0;\n",
              "    width: 32px;\n",
              "  }\n",
              "\n",
              "  .colab-df-quickchart:hover {\n",
              "    background-color: var(--hover-bg-color);\n",
              "    box-shadow: 0 1px 2px rgba(60, 64, 67, 0.3), 0 1px 3px 1px rgba(60, 64, 67, 0.15);\n",
              "    fill: var(--button-hover-fill-color);\n",
              "  }\n",
              "\n",
              "  .colab-df-quickchart-complete:disabled,\n",
              "  .colab-df-quickchart-complete:disabled:hover {\n",
              "    background-color: var(--disabled-bg-color);\n",
              "    fill: var(--disabled-fill-color);\n",
              "    box-shadow: none;\n",
              "  }\n",
              "\n",
              "  .colab-df-spinner {\n",
              "    border: 2px solid var(--fill-color);\n",
              "    border-color: transparent;\n",
              "    border-bottom-color: var(--fill-color);\n",
              "    animation:\n",
              "      spin 1s steps(1) infinite;\n",
              "  }\n",
              "\n",
              "  @keyframes spin {\n",
              "    0% {\n",
              "      border-color: transparent;\n",
              "      border-bottom-color: var(--fill-color);\n",
              "      border-left-color: var(--fill-color);\n",
              "    }\n",
              "    20% {\n",
              "      border-color: transparent;\n",
              "      border-left-color: var(--fill-color);\n",
              "      border-top-color: var(--fill-color);\n",
              "    }\n",
              "    30% {\n",
              "      border-color: transparent;\n",
              "      border-left-color: var(--fill-color);\n",
              "      border-top-color: var(--fill-color);\n",
              "      border-right-color: var(--fill-color);\n",
              "    }\n",
              "    40% {\n",
              "      border-color: transparent;\n",
              "      border-right-color: var(--fill-color);\n",
              "      border-top-color: var(--fill-color);\n",
              "    }\n",
              "    60% {\n",
              "      border-color: transparent;\n",
              "      border-right-color: var(--fill-color);\n",
              "    }\n",
              "    80% {\n",
              "      border-color: transparent;\n",
              "      border-right-color: var(--fill-color);\n",
              "      border-bottom-color: var(--fill-color);\n",
              "    }\n",
              "    90% {\n",
              "      border-color: transparent;\n",
              "      border-bottom-color: var(--fill-color);\n",
              "    }\n",
              "  }\n",
              "</style>\n",
              "\n",
              "      <script>\n",
              "        async function quickchart(key) {\n",
              "          const quickchartButtonEl =\n",
              "            document.querySelector('#' + key + ' button');\n",
              "          quickchartButtonEl.disabled = true;  // To prevent multiple clicks.\n",
              "          quickchartButtonEl.classList.add('colab-df-spinner');\n",
              "          try {\n",
              "            const charts = await google.colab.kernel.invokeFunction(\n",
              "                'suggestCharts', [key], {});\n",
              "          } catch (error) {\n",
              "            console.error('Error during call to suggestCharts:', error);\n",
              "          }\n",
              "          quickchartButtonEl.classList.remove('colab-df-spinner');\n",
              "          quickchartButtonEl.classList.add('colab-df-quickchart-complete');\n",
              "        }\n",
              "        (() => {\n",
              "          let quickchartButtonEl =\n",
              "            document.querySelector('#df-01cd431f-d3b8-431e-9362-43429b586c7a button');\n",
              "          quickchartButtonEl.style.display =\n",
              "            google.colab.kernel.accessAllowed ? 'block' : 'none';\n",
              "        })();\n",
              "      </script>\n",
              "    </div>\n",
              "\n",
              "  <div id=\"id_f2e356b6-439f-4c46-8449-ee3e24e29288\">\n",
              "    <style>\n",
              "      .colab-df-generate {\n",
              "        background-color: #E8F0FE;\n",
              "        border: none;\n",
              "        border-radius: 50%;\n",
              "        cursor: pointer;\n",
              "        display: none;\n",
              "        fill: #1967D2;\n",
              "        height: 32px;\n",
              "        padding: 0 0 0 0;\n",
              "        width: 32px;\n",
              "      }\n",
              "\n",
              "      .colab-df-generate:hover {\n",
              "        background-color: #E2EBFA;\n",
              "        box-shadow: 0px 1px 2px rgba(60, 64, 67, 0.3), 0px 1px 3px 1px rgba(60, 64, 67, 0.15);\n",
              "        fill: #174EA6;\n",
              "      }\n",
              "\n",
              "      [theme=dark] .colab-df-generate {\n",
              "        background-color: #3B4455;\n",
              "        fill: #D2E3FC;\n",
              "      }\n",
              "\n",
              "      [theme=dark] .colab-df-generate:hover {\n",
              "        background-color: #434B5C;\n",
              "        box-shadow: 0px 1px 3px 1px rgba(0, 0, 0, 0.15);\n",
              "        filter: drop-shadow(0px 1px 2px rgba(0, 0, 0, 0.3));\n",
              "        fill: #FFFFFF;\n",
              "      }\n",
              "    </style>\n",
              "    <button class=\"colab-df-generate\" onclick=\"generateWithVariable('results')\"\n",
              "            title=\"Generate code using this dataframe.\"\n",
              "            style=\"display:none;\">\n",
              "\n",
              "  <svg xmlns=\"http://www.w3.org/2000/svg\" height=\"24px\"viewBox=\"0 0 24 24\"\n",
              "       width=\"24px\">\n",
              "    <path d=\"M7,19H8.4L18.45,9,17,7.55,7,17.6ZM5,21V16.75L18.45,3.32a2,2,0,0,1,2.83,0l1.4,1.43a1.91,1.91,0,0,1,.58,1.4,1.91,1.91,0,0,1-.58,1.4L9.25,21ZM18.45,9,17,7.55Zm-12,3A5.31,5.31,0,0,0,4.9,8.1,5.31,5.31,0,0,0,1,6.5,5.31,5.31,0,0,0,4.9,4.9,5.31,5.31,0,0,0,6.5,1,5.31,5.31,0,0,0,8.1,4.9,5.31,5.31,0,0,0,12,6.5,5.46,5.46,0,0,0,6.5,12Z\"/>\n",
              "  </svg>\n",
              "    </button>\n",
              "    <script>\n",
              "      (() => {\n",
              "      const buttonEl =\n",
              "        document.querySelector('#id_f2e356b6-439f-4c46-8449-ee3e24e29288 button.colab-df-generate');\n",
              "      buttonEl.style.display =\n",
              "        google.colab.kernel.accessAllowed ? 'block' : 'none';\n",
              "\n",
              "      buttonEl.onclick = () => {\n",
              "        google.colab.notebook.generateWithVariable('results');\n",
              "      }\n",
              "      })();\n",
              "    </script>\n",
              "  </div>\n",
              "\n",
              "    </div>\n",
              "  </div>\n"
            ],
            "application/vnd.google.colaboratory.intrinsic+json": {
              "type": "dataframe",
              "variable_name": "results",
              "summary": "{\n  \"name\": \"results\",\n  \"rows\": 2,\n  \"fields\": [\n    {\n      \"column\": \"Model\",\n      \"properties\": {\n        \"dtype\": \"string\",\n        \"num_unique_values\": 2,\n        \"samples\": [\n          \"Sentence-BERT + Ridge\",\n          \"Baseline TF-IDF + Ridge\"\n        ],\
        \"semantic_type\": \"\",\n        \"description\": \"\"\n      }\n    },\n    {\n      \"column\": \"RMSE\",\n      \"properties\": {\n        \"dtype\": \"number\",\n        \"std\": 0.0249255585439158,\n        \"min\": 2.05537606077092,\n        \"max\": 2.0906261237134505,\n        \"num_unique_values\": 2,\n        \"samples\": [\n          2.05537606077092,\n          2.0906261237134505\n        ],\n        \"semantic_type\": \"\",\n        \"description\": \"\"\n      }\n    },\n    {\n      \"column\": \"MAE\",\n      \"properties\": {\n        \"dtype\": \"number\",\n        \"std\": 0.02250214921210989,\n        \"min\": 1.6230720281600952,\n        \"max\": 1.654894872758404,\n        \"num_unique_values\": 2,\n        \"samples\": [\n          1.6230720281600952,\n          1.654894872758404\n        ],\n        \"semantic_type\": \"\",\n        \"description\": \"\"\n      }\n    },\n    {\n      \"column\": \"R\\u00b2\",\n      \"properties\": {\n        \"dtype\": \"number\",\n        \"std\": 0.011271578691119733,\n        \"min\": 0.5232806885054102,\n        \"max\": 0.5392211079597473,\n        \"num_unique_values\": 2,\n        \"samples\": [\n          0.5392211079597473,\n          0.5232806885054102\n        ],\n        \"semantic_type\": \"\",\n        \"description\": \"\"\n      }\n    }\n  ]\n}"
            }
          },
          "metadata": {},
          "execution_count": 12
        }
      ]
    },
    {
      "cell_type": "code",
      "source": [
        "plt.figure(figsize=(7,3))\n",
        "sns.barplot(x='RMSE', y='Model', data=results.sort_values('RMSE'))\n",
        "plt.title('Model RMSE Comparison'); plt.show()\n"
      ],
      "metadata": {
        "colab": {
          "base_uri": "https://localhost:8080/",
          "height": 333
        },
        "id": "Z0je_smD1mX4",
        "outputId": "5fece4a4-f3cf-4a75-9889-54236473a407"
      },
      "execution_count": 13,
      "outputs": [
        {
          "output_type": "display_data",
          "data": {
            "text/plain": [
              "<Figure size 700x300 with 1 Axes>"
            ],
            "image/png": "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\n"
          },
          "metadata": {}
        }
      ]
    },
    {
      "cell_type": "markdown",
      "source": [
        "Train–Test Split"
      ],
      "metadata": {
        "id": "YVOORXtAydFh"
      }
    },
    {
      "cell_type": "code",
      "source": [
        "X_train, X_test, y_train, y_test = train_test_split(\n",
        "    df['description'], df['points'], test_size=0.2, random_state=42)\n"
      ],
      "metadata": {
        "id": "tG4NO_EsyeP1"
      },
      "execution_count": 7,
      "outputs": []
    },
    {
      "cell_type": "markdown",
      "source": [
        "Baseline: TF-IDF + Ridge (untuned)"
      ],
      "metadata": {
        "id": "_RjZ1a_Vyi9f"
      }
    },
    {
      "cell_type": "code",
      "source": [
        "pipe_base = Pipeline([\n",
        "    ('tfidf', TfidfVectorizer(max_features=20000, ngram_range=(1,2), stop_words='english')),\n",
        "    ('svd', TruncatedSVD(n_components=200, random_state=42)),\n",
        "    ('scaler', StandardScaler()),\n",
        "    ('ridge', Ridge(alpha=1.0, random_state=42))\n",
        "])\n",
        "\n",
        "pipe_base.fit(X_train, y_train)\n",
        "pred = pipe_base.predict(X_test)\n",
        "\n",
        "rmse = mean_squared_error(y_test, pred) ** 0.5\n",
        "mae = mean_absolute_error(y_test, pred)\n",
        "r2  = r2_score(y_test, pred)\n",
        "print(f\"Baseline TF-IDF+Ridge → RMSE {rmse:.3f}, MAE {mae:.3f}, R² {r2:.3f}\")"
      ],
      "metadata": {
        "colab": {
          "base_uri": "https://localhost:8080/"
        },
        "id": "EcOLXD12yjtl",
        "outputId": "f480fe02-ec03-4da3-cb64-38930a01192b"
      },
      "execution_count": 8,
      "outputs": [
        {
          "output_type": "stream",
          "name": "stdout",
          "text": [
            "Baseline TF-IDF+Ridge → RMSE 2.091, MAE 1.655, R² 0.523\n"
          ]
        }
      ]
    },
    {
      "cell_type": "markdown",
      "source": [
        "Sentence-BERT Embeddings + Ridge (advanced model)"
      ],
      "metadata": {
        "id": "Konw6puszE7I"
      }
    },
    {
      "cell_type": "code",
      "source": [
        "from sentence_transformers import SentenceTransformer\n",
        "model = SentenceTransformer('all-MiniLM-L6-v2')\n",
        "\n",
        "X_train_emb = model.encode(list(X_train), show_progress_bar=True, batch_size=64)\n",
        "X_test_emb  = model.encode(list(X_test),  show_progress_bar=True, batch_size=64)\n",
        "\n",
        "pipe_emb = make_pipeline(StandardScaler(), Ridge(random_state=42))\n",
        "param_grid_emb = {'ridge__alpha':[0.01,0.1,1,10,100]}\n",
        "\n",
        "grid_emb = GridSearchCV(pipe_emb, param_grid_emb,\n",
        "                        scoring='neg_root_mean_squared_error',\n",
        "                        cv=3, n_jobs=-1, verbose=1)\n",
        "grid_emb.fit(X_train_emb, y_train)\n",
        "print(\"Best embedding params:\", grid_emb.best_params_)\n",
        "\n",
        "best_emb = grid_emb.best_estimator_\n",
        "pred_emb = best_emb.predict(X_test_emb)\n",
        "rmse_emb = mean_squared_error(y_test, pred_emb) ** 0.5\n",
        "mae_emb  = mean_absolute_error(y_test, pred_emb)\n",
        "r2_emb   = r2_score(y_test, pred_emb)\n",
        "print(f\"Sentence-BERT+Ridge → RMSE {rmse_emb:.3f}, MAE {mae_emb:.3f}, R² {r2_emb:.3f}\")"
      ],
      "metadata": {
        "colab": {
          "base_uri": "https://localhost:8080/",
          "height": 133,
          "referenced_widgets": [
            "57ee2a6f38e240738af007b2e992d657",
            "832b5c0d8f394ee8b3c87fb7497fbcba",
            "6865ee7852124b06bb682690fa46480a",
            "9f7e72c009a4469cb717d5fa322370dc",
            "40d7b7bcbad84eba90a5d5454388fb6d",
            "0fdf39afcd984e0199114517dbb13996",
            "1b27448ac0a849b3aa5896edee5fc7fe",
            "69a157b67f1e4fb39799e2c11f6068b5",
            "24ad90a316e249f68c4433916fb69791",
            "9caff31a498d4f55afc2e757aea32bd8",
            "3ce6f57812e840b7980c9c1cf23f3162",
            "13fbd089c3354cdea9142680260bf12c",
            "274486716ce64c9485fc472babb3246c",
            "35cb24ab35294a1bbcbdfeb80e59bda0",
            "8c1c412feb2c4eca9106fde6c38f8e75",
            "e1f4ee84b2b84877b457ff1184a98a95",
            "295ee1ee507f48f7a85bf75f644494bf",
            "86fe21242e734705b3232890d5d0dadb",
            "0561e25632344661a656de42114af290",
            "bf6793ee71874305b2abc1342132747f",
            "3e2bcce123cc4d5fbdf4625b06584bc1",
            "f8f3053d7b7b4450ae0f3e97bf64cd78"
          ]
        },
        "id": "X9Zin6nbzF2k",
        "outputId": "fe3fd955-bf4b-4ce5-880b-02f32f53694a"
      },
      "execution_count": 10,
      "outputs": [
        {
          "output_type": "display_data",
          "data": {
            "text/plain": [
              "Batches:   0%|          | 0/516 [00:00<?, ?it/s]"
            ],
            "application/vnd.jupyter.widget-view+json": {
              "version_major": 2,
              "version_minor": 0,
              "model_id": "57ee2a6f38e240738af007b2e992d657"
            }
          },
          "metadata": {}
        },
        {
          "output_type": "display_data",
          "data": {
            "text/plain": [
              "Batches:   0%|          | 0/129 [00:00<?, ?it/s]"
            ],
            "application/vnd.jupyter.widget-view+json": {
              "version_major": 2,
              "version_minor": 0,
              "model_id": "13fbd089c3354cdea9142680260bf12c"
            }
          },
          "metadata": {}
        },
        {
          "output_type": "stream",
          "name": "stdout",
          "text": [
            "Fitting 3 folds for each of 5 candidates, totalling 15 fits\n",
            "Best embedding params: {'ridge__alpha': 100}\n",
            "Sentence-BERT+Ridge → RMSE 2.055, MAE 1.623, R² 0.539\n"
          ]
        }
      ]
    },
    {
      "cell_type": "markdown",
      "source": [
        "Results Comparison"
      ],
      "metadata": {
        "id": "Pz3jLUr11LgD"
      }
    },
    {
      "cell_type": "code",
      "source": [
        "results = pd.DataFrame({\n",
        "    'Model':['Baseline TF-IDF + Ridge', 'Sentence-BERT + Ridge'],\n",
        "    'RMSE':[rmse, rmse_emb],\n",
        "    'MAE':[mae, mae_emb],\n",
        "    'R²':[r2, r2_emb]\n",
        "})\n",
        "results"
      ],
      "metadata": {
        "colab": {
          "base_uri": "https://localhost:8080/",
          "height": 125
        },
        "id": "jau71lO-1X2z",
        "outputId": "37dbe81c-3057-4d0e-ece0-867869f189ba"
      },
      "execution_count": 12,
      "outputs": [
        {
          "output_type": "execute_result",
          "data": {
            "text/plain": [
              "                     Model      RMSE       MAE        R²\n",
              "0  Baseline TF-IDF + Ridge  2.090626  1.654895  0.523281\n",
              "1    Sentence-BERT + Ridge  2.055376  1.623072  0.539221"
            ],
            "text/html": [
              "\n",
              "  <div id=\"df-c8ae365b-a5cd-4a9a-a47d-df1f971aefd3\" class=\"colab-df-container\">\n",
              "    <div>\n",
              "<style scoped>\n",
              "    .dataframe tbody tr th:only-of-type {\n",
              "        vertical-align: middle;\n",
              "    }\n",
              "\n",
              "    .dataframe tbody tr th {\n",
              "        vertical-align: top;\n",
              "    }\n",
              "\n",
              "    .dataframe thead th {\n",
              "        text-align: right;\n",
              "    }\n",
              "</style>\n",
              "<table border=\"1\" class=\"dataframe\">\n",
              "  <thead>\n",
              "    <tr style=\"text-align: right;\">\n",
              "      <th></th>\n",
              "      <th>Model</th>\n",
              "      <th>RMSE</th>\n",
              "      <th>MAE</th>\n",
              "      <th>R²</th>\n",
              "    </tr>\n",
              "  </thead>\n",
              "  <tbody>\n",
              "    <tr>\n",
              "      <th>0</th>\n",
              "      <td>Baseline TF-IDF + Ridge</td>\n",
              "      <td>2.090626</td>\n",
              "      <td>1.654895</td>\n",
              "      <td>0.523281</td>\n",
              "    </tr>\n",
              "    <tr>\n",
              "      <th>1</th>\n",
              "      <td>Sentence-BERT + Ridge</td>\n",
              "      <td>2.055376</td>\n",
              "      <td>1.623072</td>\n",
              "      <td>0.539221</td>\n",
              "    </tr>\n",
              "  </tbody>\n",
              "</table>\n",
              "</div>\n",
              "    <div class=\"colab-df-buttons\">\n",
              "\n",
              "  <div class=\"colab-df-container\">\n",
              "    <button class=\"colab-df-convert\" onclick=\"convertToInteractive('df-c8ae365b-a5cd-4a9a-a47d-df1f971aefd3')\"\n",
              "            title=\"Convert this dataframe to an interactive table.\"\n",
              "            style=\"display:none;\">\n",
              "\n",
              "  <svg xmlns=\"http://www.w3.org/2000/svg\" height=\"24px\" viewBox=\"0 -960 960 960\">\n",
              "    <path d=\"M120-120v-720h720v720H120Zm60-500h600v-160H180v160Zm220 220h160v-160H400v160Zm0 220h160v-160H400v160ZM180-400h160v-160H180v160Zm440 0h160v-160H620v160ZM180-180h160v-160H180v160Zm440 0h160v-160H620v160Z\"/>\n",
              "  </svg>\n",
              "    </button>\n",
              "\n",
              "  <style>\n",
              "    .colab-df-container {\n",
              "      display:flex;\n",
              "      gap: 12px;\n",
              "    }\n",
              "\n",
              "    .colab-df-convert {\n",
              "      background-color: #E8F0FE;\n",
              "      border: none;\n",
              "      border-radius: 50%;\n",
              "      cursor: pointer;\n",
              "      display: none;\n",
              "      fill: #1967D2;\n",
              "      height: 32px;\n",
              "      padding: 0 0 0 0;\n",
              "      width: 32px;\n",
              "    }\n",
              "\n",
              "    .colab-df-convert:hover {\n",
              "      background-color: #E2EBFA;\n",
              "      box-shadow: 0px 1px 2px rgba(60, 64, 67, 0.3), 0px 1px 3px 1px rgba(60, 64, 67, 0.15);\n",
              "      fill: #174EA6;\n",
              "    }\n",
              "\n",
              "    .colab-df-buttons div {\n",
              "      margin-bottom: 4px;\n",
              "    }\n",
              "\n",
              "    [theme=dark] .colab-df-convert {\n",
              "      background-color: #3B4455;\n",
              "      fill: #D2E3FC;\n",
              "    }\n",
              "\n",
              "    [theme=dark] .colab-df-convert:hover {\n",
              "      background-color: #434B5C;\n",
              "      box-shadow: 0px 1px 3px 1px rgba(0, 0, 0, 0.15);\n",
              "      filter: drop-shadow(0px 1px 2px rgba(0, 0, 0, 0.3));\n",
              "      fill: #FFFFFF;\n",
              "    }\n",
              "  </style>\n",
              "\n",
              "    <script>\n",
              "      const buttonEl =\n",
              "        document.querySelector('#df-c8ae365b-a5cd-4a9a-a47d-df1f971aefd3 button.colab-df-convert');\n",
              "      buttonEl.style.display =\n",
              "        google.colab.kernel.accessAllowed ? 'block' : 'none';\n",
              "\n",
              "      async function convertToInteractive(key) {\n",
              "        const element = document.querySelector('#df-c8ae365b-a5cd-4a9a-a47d-df1f971aefd3');\n",
              "        const dataTable =\n",
              "          await google.colab.kernel.invokeFunction('convertToInteractive',\n",
              "                                                    [key], {});\n",
              "        if (!dataTable) return;\n",
              "\n",
              "        const docLinkHtml = 'Like what you see? Visit the ' +\n",
              "          '<a target=\"_blank\" href=https://colab.research.google.com/notebooks/data_table.ipynb>data table notebook</a>'\n",
              "          + ' to learn more about interactive tables.';\n",
              "        element.innerHTML = '';\n",
              "        dataTable['output_type'] = 'display_data';\n",
              "        await google.colab.output.renderOutput(dataTable, element);\n",
              "        const docLink = document.createElement('div');\n",
              "        docLink.innerHTML = docLinkHtml;\n",
              "        element.appendChild(docLink);\n",
              "      }\n",
              "    </script>\n",
              "  </div>\n",
              "\n",
              "\n",
              "    <div id=\"df-e0faad9f-2987-4d39-85d9-641b8939615c\">\n",
              "      <button class=\"colab-df-quickchart\" onclick=\"quickchart('df-e0faad9f-2987-4d39-85d9-641b8939615c')\"\n",
              "                title=\"Suggest charts\"\n",
              "                style=\"display:none;\">\n",
              "\n",
              "<svg xmlns=\"http://www.w3.org/2000/svg\" height=\"24px\"viewBox=\"0 0 24 24\"\n",
              "     width=\"24px\">\n",
              "    <g>\n",
              "        <path d=\"M19 3H5c-1.1 0-2 .9-2 2v14c0 1.1.9 2 2 2h14c1.1 0 2-.9 2-2V5c0-1.1-.9-2-2-2zM9 17H7v-7h2v7zm4 0h-2V7h2v10zm4 0h-2v-4h2v4z\"/>\n",
              "    </g>\n",
              "</svg>\n",
              "      </button>\n",
              "\n",
              "<style>\n",
              "  .colab-df-quickchart {\n",
              "      --bg-color: #E8F0FE;\n",
              "      --fill-color: #1967D2;\n",
              "      --hover-bg-color: #E2EBFA;\n",
              "      --hover-fill-color: #174EA6;\n",
              "      --disabled-fill-color: #AAA;\n",
              "      --disabled-bg-color: #DDD;\n",
              "  }\n",
              "\n",
              "  [theme=dark] .colab-df-quickchart {\n",
              "      --bg-color: #3B4455;\n",
              "      --fill-color: #D2E3FC;\n",
              "      --hover-bg-color: #434B5C;\n",
              "      --hover-fill-color: #FFFFFF;\n",
              "      --disabled-bg-color: #3B4455;\n",
              "      --disabled-fill-color: #666;\n",
              "  }\n",
              "\n",
              "  .colab-df-quickchart {\n",
              "    background-color: var(--bg-color);\n",
              "    border: none;\n",
              "    border-radius: 50%;\n",
              "    cursor: pointer;\n",
              "    display: none;\n",
              "    fill: var(--fill-color);\n",
              "    height: 32px;\n",
              "    padding: 0;\n",
              "    width: 32px;\n",
              "  }\n",
              "\n",
              "  .colab-df-quickchart:hover {\n",
              "    background-color: var(--hover-bg-color);\n",
              "    box-shadow: 0 1px 2px rgba(60, 64, 67, 0.3), 0 1px 3px 1px rgba(60, 64, 67, 0.15);\n",
              "    fill: var(--button-hover-fill-color);\n",
              "  }\n",
              "\n",
              "  .colab-df-quickchart-complete:disabled,\n",
              "  .colab-df-quickchart-complete:disabled:hover {\n",
              "    background-color: var(--disabled-bg-color);\n",
              "    fill: var(--disabled-fill-color);\n",
              "    box-shadow: none;\n",
              "  }\n",
              "\n",
              "  .colab-df-spinner {\n",
              "    border: 2px solid var(--fill-color);\n",
              "    border-color: transparent;\n",
              "    border-bottom-color: var(--fill-color);\n",
              "    animation:\n",
              "      spin 1s steps(1) infinite;\n",
              "  }\n",
              "\n",
              "  @keyframes spin {\n",
              "    0% {\n",
              "      border-color: transparent;\n",
              "      border-bottom-color: var(--fill-color);\n",
              "      border-left-color: var(--fill-color);\n",
              "    }\n",
              "    20% {\n",
              "      border-color: transparent;\n",
              "      border-left-color: var(--fill-color);\n",
              "      border-top-color: var(--fill-color);\n",
              "    }\n",
              "    30% {\n",
              "      border-color: transparent;\n",
              "      border-left-color: var(--fill-color);\n",
              "      border-top-color: var(--fill-color);\n",
              "      border-right-color: var(--fill-color);\n",
              "    }\n",
              "    40% {\n",
              "      border-color: transparent;\n",
              "      border-right-color: var(--fill-color);\n",
              "      border-top-color: var(--fill-color);\n",
              "    }\n",
              "    60% {\n",
              "      border-color: transparent;\n",
              "      border-right-color: var(--fill-color);\n",
              "    }\n",
              "    80% {\n",
              "      border-color: transparent;\n",
              "      border-right-color: var(--fill-color);\n",
              "      border-bottom-color: var(--fill-color);\n",
              "    }\n",
              "    90% {\n",
              "      border-color: transparent;\n",
              "      border-bottom-color: var(--fill-color);\n",
              "    }\n",
              "  }\n",
              "</style>\n",
              "\n",
              "      <script>\n",
              "        async function quickchart(key) {\n",
              "          const quickchartButtonEl =\n",
              "            document.querySelector('#' + key + ' button');\n",
              "          quickchartButtonEl.disabled = true;  // To prevent multiple clicks.\n",
              "          quickchartButtonEl.classList.add('colab-df-spinner');\n",
              "          try {\n",
              "            const charts = await google.colab.kernel.invokeFunction(\n",
              "                'suggestCharts', [key], {});\n",
              "          } catch (error) {\n",
              "            console.error('Error during call to suggestCharts:', error);\n",
              "          }\n",
              "          quickchartButtonEl.classList.remove('colab-df-spinner');\n",
              "          quickchartButtonEl.classList.add('colab-df-quickchart-complete');\n",
              "        }\n",
              "        (() => {\n",
              "          let quickchartButtonEl =\n",
              "            document.querySelector('#df-01cd431f-d3b8-431e-9362-43429b586c7a button');\n",
              "          quickchartButtonEl.style.display =\n",
              "            google.colab.kernel.accessAllowed ? 'block' : 'none';\n",
              "        })();\n",
              "      </script>\n",
              "    </div>\n",
              "\n",
              "  <div id=\"id_f2e356b6-439f-4c46-8449-ee3e24e29288\">\n",
              "    <style>\n",
              "      .colab-df-generate {\n",
              "        background-color: #E8F0FE;\n",
              "        border: none;\n",
              "        border-radius: 50%;\n",
              "        cursor: pointer;\n",
              "        display: none;\n",
              "        fill: #1967D2;\n",
              "        height: 32px;\n",
              "        padding: 0 0 0 0;\n",
              "        width: 32px;\n",
              "      }\n",
              "\n",
              "      .colab-df-generate:hover {\n",
              "        background-color: #E2EBFA;\n",
              "        box-shadow: 0px 1px 2px rgba(60, 64, 67, 0.3), 0px 1px 3px 1px rgba(60, 64, 67, 0.15);\n",
              "        fill: #174EA6;\n",
              "      }\n",
              "\n",
              "      [theme=dark] .colab-df-generate {\n",
              "        background-color: #3B4455;\n",
              "        fill: #D2E3FC;\n",
              "      }\n",
              "\n",
              "      [theme=dark] .colab-df-generate:hover {\n",
              "        background-color: #434B5C;\n",
              "        box-shadow: 0px 1px 3px 1px rgba(0, 0, 0, 0.15);\n",
              "        filter: drop-shadow(0px 1px 2px rgba(0, 0, 0, 0.3));\n",
              "        fill: #FFFFFF;\n",
              "      }\n",
              "    </style>\n",
              "    <button class=\"colab-df-generate\" onclick=\"generateWithVariable('results')\"\n",
              "            title=\"Generate code using this dataframe.\"\n",
              "            style=\"display:none;\">\n",
              "\n",
              "  <svg xmlns=\"http://www.w3.org/2000/svg\" height=\"24px\"viewBox=\"0 0 24 24\"\n",
              "       width=\"24px\">\n",
              "    <path d=\"M7,19H8.4L18.45,9,17,7.55,7,17.6ZM5,21V16.75L18.45,3.32a2,2,0,0,1,2.83,0l1.4,1.43a1.91,1.91,0,0,1,.58,1.4,1.91,1.91,0,0,1-.58,1.4L9.25,21ZM18.45,9,17,7.55Zm-12,3A5.31,5.31,0,0,0,4.9,8.1,5.31,5.31,0,0,0,1,6.5,5.31,5.31,0,0,0,4.9,4.9,5.31,5.31,0,0,0,6.5,1,5.31,5.31,0,0,0,8.1,4.9,5.31,5.31,0,0,0,12,6.5,5.46,5.46,0,0,0,6.5,12Z\"/>\n",
              "  </svg>\n",
              "    </button>\n",
              "    <script>\n",
              "      (() => {\n",
              "      const buttonEl =\n",
              "        document.querySelector('#id_f2e356b6-439f-4c46-8449-ee3e24e29288 button.colab-df-generate');\n",
              "      buttonEl.style.display =\n",
              "        google.colab.kernel.accessAllowed ? 'block' : 'none';\n",
              "\n",
              "      buttonEl.onclick = () => {\n",
              "        google.colab.notebook.generateWithVariable('results');\n",
              "      }\n",
              "      })();\n",
              "    </script>\n",
              "  </div>\n",
              "\n",
              "    </div>\n",
              "  </div>\n"
            ],
            "application/vnd.google.colaboratory.intrinsic+json": {
              "type": "dataframe",
              "variable_name": "results",
              "summary": "{\n  \"name\": \"results\",\n  \"rows\": 2,\n  \"fields\": [\n    {\n      \"column\": \"Model\",\n      \"properties\": {\n        \"dtype\": \"string\",\n        \"num_unique_values\": 2,\n        \"samples\": [\n          \"Sentence-BERT + Ridge\",\n          \"Baseline TF-IDF + Ridge\"\n        ],\n        \"semantic_type\": \"\",\n        \"description\": \"\"\n      }\n    },\n    {\n      \"column\": \"RMSE\",\n      \"properties\": {\n        \"dtype\": \"number\",\n        \"std\": 0.0249255585439158,\n        \"min\": 2.05537606077092,\n        \"max\": 2.0906261237134505,\n        \"num_unique_values\": 2,\n        \"samples\": [\n          2.05537606077092,\n          2.0906261237134505\n        ],\n        \"semantic_type\": \"\",\n        \"description\": \"\"\n      }\n    },\n    {\n      \"column\": \"MAE\",\n      \"properties\": {\n        \"dtype\": \"number\",\n        \"std\": 0.02250214921210989,\n        \"min\": 1.6230720281600952,\n        \"max\": 1.654894872758404,\n        \"num_unique_values\": 2,\n        \"samples\": [\n          1.6230720281600952,\n          1.654894872758404\n        ],\n        \"semantic_type\": \"\",\n        \"description\": \"\"\n      }\n    },\n    {\n      \"column\": \"R\\u00b2\",\n      \"properties\": {\n        \"dtype\": \"number\",\n        \"std\": 0.011271578691119733,\n        \"min\": 0.5232806885054102,\n        \"max\": 0.5392211079597473,\n        \"num_unique_values\": 2,\n        \"samples\": [\n          0.5392211079597473,\n          0.5232806885054102\n        ],\n        \"semantic_type\": \"\",\n        \"description\": \"\"\n      }\n    }\n  ]\n}"
            }
          },
          "metadata": {},
          "execution_count": 12
        }
      ]
    },
    {
      "cell_type": "code",
      "source": [
        "plt.figure(figsize=(7,3))\n",
        "sns.barplot(x='RMSE', y='Model', data=results.sort_values('RMSE'))\n",
        "plt.title('Model RMSE Comparison'); plt.show()\n"
      ],
      "metadata": {
        "colab": {
          "base_uri": "https://localhost:8080/",
          "height": 333
        },
        "id": "Z0je_smD1mX4",
        "outputId": "5fece4a4-f3cf-4a75-9889-54236473a407"
      },
      "execution_count": 13,
      "outputs": [
        {
          "output_type": "display_data",
          "data": {
            "text/plain": [
              "<Figure size 700x300 with 1 Axes>"
            ],
            "image/png": "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\n"
          },
          "metadata": {}
        }
      ]
    },
    {
      "cell_type": "markdown",
      "source": [
        "Hyperparameter tuning reduced RMSE compared with the default Ridge model.\n",
        "\n",
        "Sentence-BERT embeddings further improved performance, confirming the paper’s suggestion that semantic features are more informative than simple TF-IDF.\n",
        "\n",
        "Ridge regularization (λ = α) helps manage correlated embedding dimensions."
      ],
      "metadata": {
        "id": "MPR9RzY-1s5c"
      }
    },
    {
      "cell_type": "markdown",
      "source": [
        "****Conclusion & Future Work****\n",
        "\n",
        "The research gap — lack of embedding-based and tuned models — was addressed.\n",
        "\n",
        "Ridge Regression with Sentence-BERT embeddings achieved the best overall accuracy.\n",
        "\n",
        "Future extensions:\n",
        "\n",
        "Try Elastic Net or deep transformer regression heads.\n",
        "\n",
        "Evaluate on more diverse textual datasets.\n",
        "\n",
        "Investigate model interpretability using SHAP."
      ],
      "metadata": {
        "id": "dKJcVLf611ww"
      }
    }
  ]
}
